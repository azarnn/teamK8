{
 "cells": [
  {
   "cell_type": "markdown",
   "metadata": {},
   "source": [
    "### Анализ данных по энергопотреблению"
   ]
  },
  {
   "cell_type": "code",
   "execution_count": 1,
   "metadata": {},
   "outputs": [],
   "source": [
    "# импортируем библиотеку pandas\n",
    "import pandas as pd"
   ]
  },
  {
   "cell_type": "code",
   "execution_count": 2,
   "metadata": {},
   "outputs": [
    {
     "data": {
      "text/html": [
       "<div>\n",
       "<style scoped>\n",
       "    .dataframe tbody tr th:only-of-type {\n",
       "        vertical-align: middle;\n",
       "    }\n",
       "\n",
       "    .dataframe tbody tr th {\n",
       "        vertical-align: top;\n",
       "    }\n",
       "\n",
       "    .dataframe thead th {\n",
       "        text-align: right;\n",
       "    }\n",
       "</style>\n",
       "<table border=\"1\" class=\"dataframe\">\n",
       "  <thead>\n",
       "    <tr style=\"text-align: right;\">\n",
       "      <th></th>\n",
       "      <th>LCLid</th>\n",
       "      <th>house_id</th>\n",
       "      <th>day</th>\n",
       "      <th>energy_sum</th>\n",
       "    </tr>\n",
       "  </thead>\n",
       "  <tbody>\n",
       "    <tr>\n",
       "      <th>0</th>\n",
       "      <td>MAC000041</td>\n",
       "      <td>98</td>\n",
       "      <td>2011-12-09</td>\n",
       "      <td>11.301</td>\n",
       "    </tr>\n",
       "    <tr>\n",
       "      <th>1</th>\n",
       "      <td>MAC000041</td>\n",
       "      <td>98</td>\n",
       "      <td>2011-12-10</td>\n",
       "      <td>9.929</td>\n",
       "    </tr>\n",
       "    <tr>\n",
       "      <th>2</th>\n",
       "      <td>MAC000041</td>\n",
       "      <td>98</td>\n",
       "      <td>2011-12-11</td>\n",
       "      <td>7.936</td>\n",
       "    </tr>\n",
       "    <tr>\n",
       "      <th>3</th>\n",
       "      <td>MAC000041</td>\n",
       "      <td>98</td>\n",
       "      <td>2011-12-12</td>\n",
       "      <td>7.500</td>\n",
       "    </tr>\n",
       "    <tr>\n",
       "      <th>4</th>\n",
       "      <td>MAC000041</td>\n",
       "      <td>98</td>\n",
       "      <td>2011-12-13</td>\n",
       "      <td>9.753</td>\n",
       "    </tr>\n",
       "  </tbody>\n",
       "</table>\n",
       "</div>"
      ],
      "text/plain": [
       "       LCLid  house_id         day  energy_sum\n",
       "0  MAC000041        98  2011-12-09      11.301\n",
       "1  MAC000041        98  2011-12-10       9.929\n",
       "2  MAC000041        98  2011-12-11       7.936\n",
       "3  MAC000041        98  2011-12-12       7.500\n",
       "4  MAC000041        98  2011-12-13       9.753"
      ]
     },
     "execution_count": 2,
     "metadata": {},
     "output_type": "execute_result"
    }
   ],
   "source": [
    "#загружаем объединенный файл с данными по дневному энергопотреблению в датафрейм\n",
    "daily_data = pd.read_csv('./data/daily_energy.csv')\n",
    "#проверяем\n",
    "daily_data.head()"
   ]
  },
  {
   "cell_type": "markdown",
   "metadata": {},
   "source": [
    "Посмотрим, как менялось среднее суточное энергопотребление домохозяйств (ССЭД) по годам и месяцам."
   ]
  },
  {
   "cell_type": "code",
   "execution_count": 3,
   "metadata": {},
   "outputs": [
    {
     "data": {
      "text/html": [
       "<div>\n",
       "<style scoped>\n",
       "    .dataframe tbody tr th:only-of-type {\n",
       "        vertical-align: middle;\n",
       "    }\n",
       "\n",
       "    .dataframe tbody tr th {\n",
       "        vertical-align: top;\n",
       "    }\n",
       "\n",
       "    .dataframe thead th {\n",
       "        text-align: right;\n",
       "    }\n",
       "</style>\n",
       "<table border=\"1\" class=\"dataframe\">\n",
       "  <thead>\n",
       "    <tr style=\"text-align: right;\">\n",
       "      <th></th>\n",
       "      <th>LCLid</th>\n",
       "      <th>house_id</th>\n",
       "      <th>day</th>\n",
       "      <th>energy_sum</th>\n",
       "      <th>year</th>\n",
       "    </tr>\n",
       "  </thead>\n",
       "  <tbody>\n",
       "    <tr>\n",
       "      <th>0</th>\n",
       "      <td>MAC000041</td>\n",
       "      <td>98</td>\n",
       "      <td>2011-12-09</td>\n",
       "      <td>11.301</td>\n",
       "      <td>2011</td>\n",
       "    </tr>\n",
       "    <tr>\n",
       "      <th>1</th>\n",
       "      <td>MAC000041</td>\n",
       "      <td>98</td>\n",
       "      <td>2011-12-10</td>\n",
       "      <td>9.929</td>\n",
       "      <td>2011</td>\n",
       "    </tr>\n",
       "    <tr>\n",
       "      <th>2</th>\n",
       "      <td>MAC000041</td>\n",
       "      <td>98</td>\n",
       "      <td>2011-12-11</td>\n",
       "      <td>7.936</td>\n",
       "      <td>2011</td>\n",
       "    </tr>\n",
       "    <tr>\n",
       "      <th>3</th>\n",
       "      <td>MAC000041</td>\n",
       "      <td>98</td>\n",
       "      <td>2011-12-12</td>\n",
       "      <td>7.500</td>\n",
       "      <td>2011</td>\n",
       "    </tr>\n",
       "    <tr>\n",
       "      <th>4</th>\n",
       "      <td>MAC000041</td>\n",
       "      <td>98</td>\n",
       "      <td>2011-12-13</td>\n",
       "      <td>9.753</td>\n",
       "      <td>2011</td>\n",
       "    </tr>\n",
       "  </tbody>\n",
       "</table>\n",
       "</div>"
      ],
      "text/plain": [
       "       LCLid  house_id         day  energy_sum  year\n",
       "0  MAC000041        98  2011-12-09      11.301  2011\n",
       "1  MAC000041        98  2011-12-10       9.929  2011\n",
       "2  MAC000041        98  2011-12-11       7.936  2011\n",
       "3  MAC000041        98  2011-12-12       7.500  2011\n",
       "4  MAC000041        98  2011-12-13       9.753  2011"
      ]
     },
     "execution_count": 3,
     "metadata": {},
     "output_type": "execute_result"
    }
   ],
   "source": [
    "#добавим колонку year, вырезав код года из строки day\n",
    "daily_data['year'] = daily_data['day'].str[:4]\n",
    "#проверим\n",
    "daily_data.head()"
   ]
  },
  {
   "cell_type": "code",
   "execution_count": 4,
   "metadata": {},
   "outputs": [
    {
     "data": {
      "text/html": [
       "<div>\n",
       "<style scoped>\n",
       "    .dataframe tbody tr th:only-of-type {\n",
       "        vertical-align: middle;\n",
       "    }\n",
       "\n",
       "    .dataframe tbody tr th {\n",
       "        vertical-align: top;\n",
       "    }\n",
       "\n",
       "    .dataframe thead th {\n",
       "        text-align: right;\n",
       "    }\n",
       "</style>\n",
       "<table border=\"1\" class=\"dataframe\">\n",
       "  <thead>\n",
       "    <tr style=\"text-align: right;\">\n",
       "      <th></th>\n",
       "      <th>LCLid</th>\n",
       "      <th>house_id</th>\n",
       "      <th>day</th>\n",
       "      <th>energy_sum</th>\n",
       "      <th>year</th>\n",
       "      <th>month</th>\n",
       "    </tr>\n",
       "  </thead>\n",
       "  <tbody>\n",
       "    <tr>\n",
       "      <th>0</th>\n",
       "      <td>MAC000041</td>\n",
       "      <td>98</td>\n",
       "      <td>2011-12-09</td>\n",
       "      <td>11.301</td>\n",
       "      <td>2011</td>\n",
       "      <td>12</td>\n",
       "    </tr>\n",
       "    <tr>\n",
       "      <th>1</th>\n",
       "      <td>MAC000041</td>\n",
       "      <td>98</td>\n",
       "      <td>2011-12-10</td>\n",
       "      <td>9.929</td>\n",
       "      <td>2011</td>\n",
       "      <td>12</td>\n",
       "    </tr>\n",
       "    <tr>\n",
       "      <th>2</th>\n",
       "      <td>MAC000041</td>\n",
       "      <td>98</td>\n",
       "      <td>2011-12-11</td>\n",
       "      <td>7.936</td>\n",
       "      <td>2011</td>\n",
       "      <td>12</td>\n",
       "    </tr>\n",
       "    <tr>\n",
       "      <th>3</th>\n",
       "      <td>MAC000041</td>\n",
       "      <td>98</td>\n",
       "      <td>2011-12-12</td>\n",
       "      <td>7.500</td>\n",
       "      <td>2011</td>\n",
       "      <td>12</td>\n",
       "    </tr>\n",
       "    <tr>\n",
       "      <th>4</th>\n",
       "      <td>MAC000041</td>\n",
       "      <td>98</td>\n",
       "      <td>2011-12-13</td>\n",
       "      <td>9.753</td>\n",
       "      <td>2011</td>\n",
       "      <td>12</td>\n",
       "    </tr>\n",
       "  </tbody>\n",
       "</table>\n",
       "</div>"
      ],
      "text/plain": [
       "       LCLid  house_id         day  energy_sum  year month\n",
       "0  MAC000041        98  2011-12-09      11.301  2011    12\n",
       "1  MAC000041        98  2011-12-10       9.929  2011    12\n",
       "2  MAC000041        98  2011-12-11       7.936  2011    12\n",
       "3  MAC000041        98  2011-12-12       7.500  2011    12\n",
       "4  MAC000041        98  2011-12-13       9.753  2011    12"
      ]
     },
     "execution_count": 4,
     "metadata": {},
     "output_type": "execute_result"
    }
   ],
   "source": [
    "#добавим колонку month, вырезав код месяца из строки day\n",
    "daily_data['month'] = daily_data['day'].str[5:7]\n",
    "#проверим\n",
    "daily_data.head()"
   ]
  },
  {
   "cell_type": "code",
   "execution_count": 6,
   "metadata": {},
   "outputs": [
    {
     "data": {
      "text/plain": [
       "<matplotlib.axes._subplots.AxesSubplot at 0x7fb1bb720470>"
      ]
     },
     "execution_count": 6,
     "metadata": {},
     "output_type": "execute_result"
    },
    {
     "data": {
      "image/png": "[encoded data removed]",
      "text/plain": [
       "<Figure size 432x288 with 1 Axes>"
      ]
     },
     "metadata": {
      "needs_background": "light"
     },
     "output_type": "display_data"
    }
   ],
   "source": [
    "#построим график распределения распределения ССЭД по по годам и месяцам\n",
    "daily_data.groupby(['year', 'month'])['energy_sum'].mean().plot(kind='bar', x='month',\n",
    "                                grid = True, \n",
    "                                colormap = 'coolwarm', \n",
    "                                title = 'Среднее суточное энергопотребление по годам и месяцам')"
   ]
  },
  {
   "cell_type": "markdown",
   "metadata": {},
   "source": [
    "Видна ярко выраженная сезонность энергопотребления. "
   ]
  },
  {
   "cell_type": "markdown",
   "metadata": {},
   "source": [
    "Изучим распределение энергопотребления по дням недели."
   ]
  },
  {
   "cell_type": "code",
   "execution_count": 7,
   "metadata": {},
   "outputs": [
    {
     "data": {
      "text/html": [
       "<div>\n",
       "<style scoped>\n",
       "    .dataframe tbody tr th:only-of-type {\n",
       "        vertical-align: middle;\n",
       "    }\n",
       "\n",
       "    .dataframe tbody tr th {\n",
       "        vertical-align: top;\n",
       "    }\n",
       "\n",
       "    .dataframe thead th {\n",
       "        text-align: right;\n",
       "    }\n",
       "</style>\n",
       "<table border=\"1\" class=\"dataframe\">\n",
       "  <thead>\n",
       "    <tr style=\"text-align: right;\">\n",
       "      <th></th>\n",
       "      <th>day</th>\n",
       "      <th>isoweekday</th>\n",
       "    </tr>\n",
       "  </thead>\n",
       "  <tbody>\n",
       "    <tr>\n",
       "      <th>0</th>\n",
       "      <td>2011-11-01</td>\n",
       "      <td>2</td>\n",
       "    </tr>\n",
       "    <tr>\n",
       "      <th>1</th>\n",
       "      <td>2011-11-02</td>\n",
       "      <td>3</td>\n",
       "    </tr>\n",
       "    <tr>\n",
       "      <th>2</th>\n",
       "      <td>2011-11-03</td>\n",
       "      <td>4</td>\n",
       "    </tr>\n",
       "    <tr>\n",
       "      <th>3</th>\n",
       "      <td>2011-11-04</td>\n",
       "      <td>5</td>\n",
       "    </tr>\n",
       "    <tr>\n",
       "      <th>4</th>\n",
       "      <td>2011-11-05</td>\n",
       "      <td>6</td>\n",
       "    </tr>\n",
       "  </tbody>\n",
       "</table>\n",
       "</div>"
      ],
      "text/plain": [
       "          day  isoweekday\n",
       "0  2011-11-01           2\n",
       "1  2011-11-02           3\n",
       "2  2011-11-03           4\n",
       "3  2011-11-04           5\n",
       "4  2011-11-05           6"
      ]
     },
     "execution_count": 7,
     "metadata": {},
     "output_type": "execute_result"
    }
   ],
   "source": [
    "#загрузим справочник дней недели по датам \n",
    "weekdays = pd.read_csv('./data/weekdays.csv')\n",
    "#проверим\n",
    "weekdays.head()"
   ]
  },
  {
   "cell_type": "code",
   "execution_count": 8,
   "metadata": {},
   "outputs": [
    {
     "data": {
      "text/html": [
       "<div>\n",
       "<style scoped>\n",
       "    .dataframe tbody tr th:only-of-type {\n",
       "        vertical-align: middle;\n",
       "    }\n",
       "\n",
       "    .dataframe tbody tr th {\n",
       "        vertical-align: top;\n",
       "    }\n",
       "\n",
       "    .dataframe thead th {\n",
       "        text-align: right;\n",
       "    }\n",
       "</style>\n",
       "<table border=\"1\" class=\"dataframe\">\n",
       "  <thead>\n",
       "    <tr style=\"text-align: right;\">\n",
       "      <th></th>\n",
       "      <th>LCLid</th>\n",
       "      <th>house_id</th>\n",
       "      <th>day</th>\n",
       "      <th>energy_sum</th>\n",
       "      <th>year</th>\n",
       "      <th>month</th>\n",
       "      <th>isoweekday</th>\n",
       "    </tr>\n",
       "  </thead>\n",
       "  <tbody>\n",
       "    <tr>\n",
       "      <th>0</th>\n",
       "      <td>MAC000041</td>\n",
       "      <td>98</td>\n",
       "      <td>2011-12-09</td>\n",
       "      <td>11.301</td>\n",
       "      <td>2011</td>\n",
       "      <td>12</td>\n",
       "      <td>5</td>\n",
       "    </tr>\n",
       "    <tr>\n",
       "      <th>1</th>\n",
       "      <td>MAC000041</td>\n",
       "      <td>98</td>\n",
       "      <td>2011-12-10</td>\n",
       "      <td>9.929</td>\n",
       "      <td>2011</td>\n",
       "      <td>12</td>\n",
       "      <td>6</td>\n",
       "    </tr>\n",
       "    <tr>\n",
       "      <th>2</th>\n",
       "      <td>MAC000041</td>\n",
       "      <td>98</td>\n",
       "      <td>2011-12-11</td>\n",
       "      <td>7.936</td>\n",
       "      <td>2011</td>\n",
       "      <td>12</td>\n",
       "      <td>7</td>\n",
       "    </tr>\n",
       "    <tr>\n",
       "      <th>3</th>\n",
       "      <td>MAC000041</td>\n",
       "      <td>98</td>\n",
       "      <td>2011-12-12</td>\n",
       "      <td>7.500</td>\n",
       "      <td>2011</td>\n",
       "      <td>12</td>\n",
       "      <td>1</td>\n",
       "    </tr>\n",
       "    <tr>\n",
       "      <th>4</th>\n",
       "      <td>MAC000041</td>\n",
       "      <td>98</td>\n",
       "      <td>2011-12-13</td>\n",
       "      <td>9.753</td>\n",
       "      <td>2011</td>\n",
       "      <td>12</td>\n",
       "      <td>2</td>\n",
       "    </tr>\n",
       "  </tbody>\n",
       "</table>\n",
       "</div>"
      ],
      "text/plain": [
       "       LCLid  house_id         day  energy_sum  year month  isoweekday\n",
       "0  MAC000041        98  2011-12-09      11.301  2011    12           5\n",
       "1  MAC000041        98  2011-12-10       9.929  2011    12           6\n",
       "2  MAC000041        98  2011-12-11       7.936  2011    12           7\n",
       "3  MAC000041        98  2011-12-12       7.500  2011    12           1\n",
       "4  MAC000041        98  2011-12-13       9.753  2011    12           2"
      ]
     },
     "execution_count": 8,
     "metadata": {},
     "output_type": "execute_result"
    }
   ],
   "source": [
    "#добавим в датафрейм daily_data столбец weekday из датафрейма weekdays\n",
    "daily_data = daily_data.merge(weekdays, on='day', how='left')\n",
    "#посмотрим на результат\n",
    "daily_data.head()"
   ]
  },
  {
   "cell_type": "code",
   "execution_count": 9,
   "metadata": {
    "scrolled": true
   },
   "outputs": [
    {
     "data": {
      "text/plain": [
       "isoweekday\n",
       "1    10.143721\n",
       "2    10.015564\n",
       "3    10.013860\n",
       "4     9.980274\n",
       "5    10.018266\n",
       "6    10.256832\n",
       "7    10.725412\n",
       "Name: energy_sum, dtype: float64"
      ]
     },
     "execution_count": 9,
     "metadata": {},
     "output_type": "execute_result"
    }
   ],
   "source": [
    "#получим распределение среднего энергопотребления домохозяйства по дням недели\n",
    "daily_data.groupby('isoweekday')['energy_sum'].mean()"
   ]
  },
  {
   "cell_type": "code",
   "execution_count": 11,
   "metadata": {},
   "outputs": [
    {
     "data": {
      "text/plain": [
       "<matplotlib.axes._subplots.AxesSubplot at 0x7fb1bb593b00>"
      ]
     },
     "execution_count": 11,
     "metadata": {},
     "output_type": "execute_result"
    },
    {
     "data": {
      "image/png": "[encoded data removed]",
      "text/plain": [
       "<Figure size 432x288 with 1 Axes>"
      ]
     },
     "metadata": {
      "needs_background": "light"
     },
     "output_type": "display_data"
    }
   ],
   "source": [
    "#построим столбчатую диаграмму ССЭД по дням недели\n",
    "daily_data.groupby('isoweekday')['energy_sum'].mean().plot(kind = 'bar', \n",
    "                              grid = True, \n",
    "                              colormap = 'coolwarm', \n",
    "                              title = 'Среднее суточное энергопотребление по дням недели')"
   ]
  },
  {
   "cell_type": "markdown",
   "metadata": {},
   "source": [
    "Видим незначительный разброс энергопотребления по дням недели с минимумом в четверг и максимумом в воскресенье."
   ]
  },
  {
   "cell_type": "markdown",
   "metadata": {},
   "source": [
    "Выясним, как влияют на энергопотребление 2 основных фактора, сязанных с сезонностью: продолжительность светового дня и среднесуточная температура воздуха."
   ]
  },
  {
   "cell_type": "code",
   "execution_count": 12,
   "metadata": {},
   "outputs": [
    {
     "data": {
      "text/html": [
       "<div>\n",
       "<style scoped>\n",
       "    .dataframe tbody tr th:only-of-type {\n",
       "        vertical-align: middle;\n",
       "    }\n",
       "\n",
       "    .dataframe tbody tr th {\n",
       "        vertical-align: top;\n",
       "    }\n",
       "\n",
       "    .dataframe thead th {\n",
       "        text-align: right;\n",
       "    }\n",
       "</style>\n",
       "<table border=\"1\" class=\"dataframe\">\n",
       "  <thead>\n",
       "    <tr style=\"text-align: right;\">\n",
       "      <th></th>\n",
       "      <th>energy_sum</th>\n",
       "    </tr>\n",
       "    <tr>\n",
       "      <th>day</th>\n",
       "      <th></th>\n",
       "    </tr>\n",
       "  </thead>\n",
       "  <tbody>\n",
       "    <tr>\n",
       "      <th>2014-02-23</th>\n",
       "      <td>11.495899</td>\n",
       "    </tr>\n",
       "    <tr>\n",
       "      <th>2014-02-24</th>\n",
       "      <td>10.421352</td>\n",
       "    </tr>\n",
       "    <tr>\n",
       "      <th>2014-02-25</th>\n",
       "      <td>10.294125</td>\n",
       "    </tr>\n",
       "    <tr>\n",
       "      <th>2014-02-26</th>\n",
       "      <td>10.216438</td>\n",
       "    </tr>\n",
       "    <tr>\n",
       "      <th>2014-02-27</th>\n",
       "      <td>10.362517</td>\n",
       "    </tr>\n",
       "  </tbody>\n",
       "</table>\n",
       "</div>"
      ],
      "text/plain": [
       "            energy_sum\n",
       "day                   \n",
       "2014-02-23   11.495899\n",
       "2014-02-24   10.421352\n",
       "2014-02-25   10.294125\n",
       "2014-02-26   10.216438\n",
       "2014-02-27   10.362517"
      ]
     },
     "execution_count": 12,
     "metadata": {},
     "output_type": "execute_result"
    }
   ],
   "source": [
    "#формируем таблицу среднего энергопотребления домохозяйства за сутки для каждого даты наблюдения,\n",
    "#построив cводную таблицу\n",
    "data_pivot = daily_data.pivot_table(index = 'day', values = 'energy_sum', aggfunc = 'mean')\n",
    "#проверим результат\n",
    "data_pivot.tail()"
   ]
  },
  {
   "cell_type": "code",
   "execution_count": 13,
   "metadata": {},
   "outputs": [
    {
     "data": {
      "text/html": [
       "<div>\n",
       "<style scoped>\n",
       "    .dataframe tbody tr th:only-of-type {\n",
       "        vertical-align: middle;\n",
       "    }\n",
       "\n",
       "    .dataframe tbody tr th {\n",
       "        vertical-align: top;\n",
       "    }\n",
       "\n",
       "    .dataframe thead th {\n",
       "        text-align: right;\n",
       "    }\n",
       "</style>\n",
       "<table border=\"1\" class=\"dataframe\">\n",
       "  <thead>\n",
       "    <tr style=\"text-align: right;\">\n",
       "      <th></th>\n",
       "      <th>day</th>\n",
       "      <th>temperatureMax</th>\n",
       "      <th>temperatureMin</th>\n",
       "      <th>daylight</th>\n",
       "    </tr>\n",
       "  </thead>\n",
       "  <tbody>\n",
       "    <tr>\n",
       "      <th>0</th>\n",
       "      <td>2011-11-11</td>\n",
       "      <td>11.96</td>\n",
       "      <td>8.85</td>\n",
       "      <td>32827</td>\n",
       "    </tr>\n",
       "    <tr>\n",
       "      <th>1</th>\n",
       "      <td>2011-12-11</td>\n",
       "      <td>8.59</td>\n",
       "      <td>2.48</td>\n",
       "      <td>28551</td>\n",
       "    </tr>\n",
       "    <tr>\n",
       "      <th>2</th>\n",
       "      <td>2011-12-27</td>\n",
       "      <td>10.33</td>\n",
       "      <td>8.03</td>\n",
       "      <td>28250</td>\n",
       "    </tr>\n",
       "    <tr>\n",
       "      <th>3</th>\n",
       "      <td>2011-12-02</td>\n",
       "      <td>8.07</td>\n",
       "      <td>2.56</td>\n",
       "      <td>29408</td>\n",
       "    </tr>\n",
       "    <tr>\n",
       "      <th>4</th>\n",
       "      <td>2011-12-24</td>\n",
       "      <td>8.22</td>\n",
       "      <td>3.17</td>\n",
       "      <td>28180</td>\n",
       "    </tr>\n",
       "  </tbody>\n",
       "</table>\n",
       "</div>"
      ],
      "text/plain": [
       "          day  temperatureMax  temperatureMin  daylight\n",
       "0  2011-11-11           11.96            8.85     32827\n",
       "1  2011-12-11            8.59            2.48     28551\n",
       "2  2011-12-27           10.33            8.03     28250\n",
       "3  2011-12-02            8.07            2.56     29408\n",
       "4  2011-12-24            8.22            3.17     28180"
      ]
     },
     "execution_count": 13,
     "metadata": {},
     "output_type": "execute_result"
    }
   ],
   "source": [
    "#загрузим сведения о погоде\n",
    "daily_weather = pd.read_csv('./data/daily_weather.csv')\n",
    "#проверим\n",
    "daily_weather.head()"
   ]
  },
  {
   "cell_type": "code",
   "execution_count": 14,
   "metadata": {},
   "outputs": [
    {
     "data": {
      "text/html": [
       "<div>\n",
       "<style scoped>\n",
       "    .dataframe tbody tr th:only-of-type {\n",
       "        vertical-align: middle;\n",
       "    }\n",
       "\n",
       "    .dataframe tbody tr th {\n",
       "        vertical-align: top;\n",
       "    }\n",
       "\n",
       "    .dataframe thead th {\n",
       "        text-align: right;\n",
       "    }\n",
       "</style>\n",
       "<table border=\"1\" class=\"dataframe\">\n",
       "  <thead>\n",
       "    <tr style=\"text-align: right;\">\n",
       "      <th></th>\n",
       "      <th>day</th>\n",
       "      <th>energy_sum</th>\n",
       "      <th>temperatureMax</th>\n",
       "      <th>temperatureMin</th>\n",
       "      <th>daylight</th>\n",
       "    </tr>\n",
       "  </thead>\n",
       "  <tbody>\n",
       "    <tr>\n",
       "      <th>0</th>\n",
       "      <td>2011-11-24</td>\n",
       "      <td>10.728615</td>\n",
       "      <td>12.93</td>\n",
       "      <td>8.56</td>\n",
       "      <td>30514</td>\n",
       "    </tr>\n",
       "    <tr>\n",
       "      <th>1</th>\n",
       "      <td>2011-11-25</td>\n",
       "      <td>10.182200</td>\n",
       "      <td>13.03</td>\n",
       "      <td>7.46</td>\n",
       "      <td>30360</td>\n",
       "    </tr>\n",
       "    <tr>\n",
       "      <th>2</th>\n",
       "      <td>2011-11-26</td>\n",
       "      <td>10.610687</td>\n",
       "      <td>12.96</td>\n",
       "      <td>7.01</td>\n",
       "      <td>30211</td>\n",
       "    </tr>\n",
       "    <tr>\n",
       "      <th>3</th>\n",
       "      <td>2011-11-27</td>\n",
       "      <td>10.850805</td>\n",
       "      <td>13.54</td>\n",
       "      <td>4.47</td>\n",
       "      <td>30066</td>\n",
       "    </tr>\n",
       "    <tr>\n",
       "      <th>4</th>\n",
       "      <td>2011-11-28</td>\n",
       "      <td>10.105561</td>\n",
       "      <td>12.58</td>\n",
       "      <td>1.31</td>\n",
       "      <td>29926</td>\n",
       "    </tr>\n",
       "  </tbody>\n",
       "</table>\n",
       "</div>"
      ],
      "text/plain": [
       "          day  energy_sum  temperatureMax  temperatureMin  daylight\n",
       "0  2011-11-24   10.728615           12.93            8.56     30514\n",
       "1  2011-11-25   10.182200           13.03            7.46     30360\n",
       "2  2011-11-26   10.610687           12.96            7.01     30211\n",
       "3  2011-11-27   10.850805           13.54            4.47     30066\n",
       "4  2011-11-28   10.105561           12.58            1.31     29926"
      ]
     },
     "execution_count": 14,
     "metadata": {},
     "output_type": "execute_result"
    }
   ],
   "source": [
    "#сохраним размер датафрейма для проверки\n",
    "data_pivot_len = len(data_pivot)\n",
    "\n",
    "#добавим в датафрейм data_pivot столбцы temperatureMax, temperatureMin, daylight из датафрейма daily_weather\n",
    "data_pivot = data_pivot.merge(daily_weather, on='day', how='left')\n",
    "#посмотрим на результат\n",
    "data_pivot.head()"
   ]
  },
  {
   "cell_type": "code",
   "execution_count": 15,
   "metadata": {},
   "outputs": [
    {
     "data": {
      "text/plain": [
       "True"
      ]
     },
     "execution_count": 15,
     "metadata": {},
     "output_type": "execute_result"
    }
   ],
   "source": [
    "#проверим, не возникли ли дубликаты по равенству числа строк исходного и объединенного\n",
    "#датафреймов\n",
    "len(data_pivot) == data_pivot_len"
   ]
  },
  {
   "cell_type": "markdown",
   "metadata": {},
   "source": [
    "Все нормально, дубликатов нет."
   ]
  },
  {
   "cell_type": "code",
   "execution_count": 16,
   "metadata": {},
   "outputs": [
    {
     "data": {
      "text/html": [
       "<div>\n",
       "<style scoped>\n",
       "    .dataframe tbody tr th:only-of-type {\n",
       "        vertical-align: middle;\n",
       "    }\n",
       "\n",
       "    .dataframe tbody tr th {\n",
       "        vertical-align: top;\n",
       "    }\n",
       "\n",
       "    .dataframe thead th {\n",
       "        text-align: right;\n",
       "    }\n",
       "</style>\n",
       "<table border=\"1\" class=\"dataframe\">\n",
       "  <thead>\n",
       "    <tr style=\"text-align: right;\">\n",
       "      <th></th>\n",
       "      <th>energy_sum</th>\n",
       "      <th>temperatureMax</th>\n",
       "      <th>temperatureMin</th>\n",
       "      <th>daylight</th>\n",
       "    </tr>\n",
       "  </thead>\n",
       "  <tbody>\n",
       "    <tr>\n",
       "      <th>energy_sum</th>\n",
       "      <td>1.000000</td>\n",
       "      <td>-0.884499</td>\n",
       "      <td>-0.836763</td>\n",
       "      <td>-0.795167</td>\n",
       "    </tr>\n",
       "    <tr>\n",
       "      <th>temperatureMax</th>\n",
       "      <td>-0.884499</td>\n",
       "      <td>1.000000</td>\n",
       "      <td>0.895433</td>\n",
       "      <td>0.693481</td>\n",
       "    </tr>\n",
       "    <tr>\n",
       "      <th>temperatureMin</th>\n",
       "      <td>-0.836763</td>\n",
       "      <td>0.895433</td>\n",
       "      <td>1.000000</td>\n",
       "      <td>0.629800</td>\n",
       "    </tr>\n",
       "    <tr>\n",
       "      <th>daylight</th>\n",
       "      <td>-0.795167</td>\n",
       "      <td>0.693481</td>\n",
       "      <td>0.629800</td>\n",
       "      <td>1.000000</td>\n",
       "    </tr>\n",
       "  </tbody>\n",
       "</table>\n",
       "</div>"
      ],
      "text/plain": [
       "                energy_sum  temperatureMax  temperatureMin  daylight\n",
       "energy_sum        1.000000       -0.884499       -0.836763 -0.795167\n",
       "temperatureMax   -0.884499        1.000000        0.895433  0.693481\n",
       "temperatureMin   -0.836763        0.895433        1.000000  0.629800\n",
       "daylight         -0.795167        0.693481        0.629800  1.000000"
      ]
     },
     "execution_count": 16,
     "metadata": {},
     "output_type": "execute_result"
    }
   ],
   "source": [
    "#построим корреляционную матрицу для датафрейма data_pivot\n",
    "data_pivot.corr()"
   ]
  },
  {
   "cell_type": "code",
   "execution_count": 17,
   "metadata": {},
   "outputs": [
    {
     "data": {
      "text/plain": [
       "<matplotlib.axes._subplots.AxesSubplot at 0x7fb1b9406240>"
      ]
     },
     "execution_count": 17,
     "metadata": {},
     "output_type": "execute_result"
    },
    {
     "data": {
      "image/png": "[encoded data removed]",
      "text/plain": [
       "<Figure size 432x288 with 2 Axes>"
      ]
     },
     "metadata": {
      "needs_background": "light"
     },
     "output_type": "display_data"
    }
   ],
   "source": [
    "#импортируем библиотеку seaborn\n",
    "import seaborn as sns\n",
    "#построим тепловую карту корреляционной матрицы датафрейма data_pivot\n",
    "sns.heatmap(data_pivot.corr(), annot = True, cmap = 'coolwarm')"
   ]
  },
  {
   "cell_type": "markdown",
   "metadata": {},
   "source": [
    "Четко видна сильная обратная корреляция среднего энергопотребления с температурой воздуха и продолжительностью светового дня. Также хорошо видно, что продолжительность светового дня и температура воздуха взаимнокоррелированны."
   ]
  },
  {
   "cell_type": "markdown",
   "metadata": {},
   "source": [
    "Изучим распределение энергопотребления по домам."
   ]
  },
  {
   "cell_type": "code",
   "execution_count": 18,
   "metadata": {},
   "outputs": [
    {
     "data": {
      "text/plain": [
       "house_id\n",
       "109     6.142006\n",
       "92      6.456568\n",
       "102     6.560510\n",
       "96      6.659600\n",
       "108     6.945821\n",
       "91      6.957859\n",
       "93      7.106712\n",
       "97      7.260018\n",
       "98      7.462123\n",
       "94      7.470797\n",
       "105     7.500977\n",
       "106     7.555133\n",
       "100     7.576175\n",
       "55      7.608672\n",
       "95      7.666550\n",
       "99      7.682262\n",
       "103     7.846729\n",
       "90      7.910273\n",
       "46      7.947740\n",
       "21      8.124643\n",
       "101     8.301501\n",
       "107     8.331258\n",
       "32      8.388190\n",
       "50      8.602937\n",
       "43      8.712135\n",
       "87      8.744593\n",
       "44      8.750089\n",
       "53      8.757174\n",
       "78      8.887588\n",
       "26      9.009342\n",
       "         ...    \n",
       "60     10.916923\n",
       "4      10.918972\n",
       "40     11.016051\n",
       "28     11.111644\n",
       "19     11.166873\n",
       "57     11.201035\n",
       "22     11.282227\n",
       "30     11.364282\n",
       "24     11.492707\n",
       "69     11.529079\n",
       "111    11.569661\n",
       "29     11.586989\n",
       "67     11.687362\n",
       "73     11.798319\n",
       "14     11.801676\n",
       "9      12.045486\n",
       "34     12.101146\n",
       "3      12.353131\n",
       "12     12.380005\n",
       "66     12.479872\n",
       "11     13.041821\n",
       "5      13.430083\n",
       "68     13.612371\n",
       "10     13.735560\n",
       "6      13.843067\n",
       "8      14.248513\n",
       "7      14.547279\n",
       "2      17.446686\n",
       "1      18.783046\n",
       "0      21.631061\n",
       "Name: energy_sum, Length: 112, dtype: float64"
      ]
     },
     "execution_count": 18,
     "metadata": {},
     "output_type": "execute_result"
    }
   ],
   "source": [
    "#получим распределение ССЭД по домам\n",
    "daily_data.groupby('house_id')['energy_sum'].mean().sort_values()"
   ]
  },
  {
   "cell_type": "code",
   "execution_count": 19,
   "metadata": {},
   "outputs": [
    {
     "data": {
      "text/plain": [
       "<matplotlib.axes._subplots.AxesSubplot at 0x7fb1ba168710>"
      ]
     },
     "execution_count": 19,
     "metadata": {},
     "output_type": "execute_result"
    },
    {
     "data": {
      "image/png": "[encoded data removed]",
      "text/plain": [
       "<Figure size 432x288 with 1 Axes>"
      ]
     },
     "metadata": {
      "needs_background": "light"
     },
     "output_type": "display_data"
    }
   ],
   "source": [
    "#построим график распределения ССЭД по домам\n",
    "daily_data.groupby('house_id')['energy_sum'].mean().sort_values().reset_index().plot(\n",
    "    use_index=True, \n",
    "    grid = True,\n",
    "    y = 'energy_sum',\n",
    "    colormap = 'coolwarm', \n",
    "    title = 'Среднее суточное энергопотребление по домам')"
   ]
  },
  {
   "cell_type": "markdown",
   "metadata": {},
   "source": [
    "Наблюдается очень большое различие (более, чем в три раза) в среднем суточном энергопотреблении домохозяйств в различных домах. "
   ]
  },
  {
   "cell_type": "markdown",
   "metadata": {},
   "source": [
    "Дополнительно посмотрим распределение максимального суточного энергопотребления по домам."
   ]
  },
  {
   "cell_type": "code",
   "execution_count": 20,
   "metadata": {
    "scrolled": true
   },
   "outputs": [
    {
     "data": {
      "text/plain": [
       "house_id\n",
       "108     38.076000\n",
       "102     43.200000\n",
       "92      47.351000\n",
       "101     49.491000\n",
       "96      50.488000\n",
       "106     51.754000\n",
       "55      52.488000\n",
       "75      54.790000\n",
       "97      56.510000\n",
       "88      56.592000\n",
       "103     57.569000\n",
       "43      59.056000\n",
       "59      59.247000\n",
       "95      59.718000\n",
       "80      60.372000\n",
       "98      60.644000\n",
       "70      61.497000\n",
       "87      62.029000\n",
       "84      62.214000\n",
       "79      62.891000\n",
       "62      64.349000\n",
       "51      64.956000\n",
       "78      65.272000\n",
       "107     65.972000\n",
       "109     65.982000\n",
       "105     66.367000\n",
       "83      66.476000\n",
       "81      67.235000\n",
       "13      67.558000\n",
       "52      67.945000\n",
       "          ...    \n",
       "29     122.551999\n",
       "56     125.058000\n",
       "21     130.023001\n",
       "57     131.673000\n",
       "9      132.983000\n",
       "17     136.560000\n",
       "72     137.891000\n",
       "48     139.511000\n",
       "15     141.108999\n",
       "32     142.018000\n",
       "110    150.362001\n",
       "8      150.871000\n",
       "64     150.886001\n",
       "1      153.685000\n",
       "33     159.427000\n",
       "68     161.177000\n",
       "6      162.868001\n",
       "14     164.000999\n",
       "34     165.868001\n",
       "11     166.954000\n",
       "40     175.757999\n",
       "10     176.024000\n",
       "2      185.322000\n",
       "24     198.497999\n",
       "31     199.818000\n",
       "38     214.895999\n",
       "7      239.274999\n",
       "0      277.973999\n",
       "41     321.696998\n",
       "12     332.556001\n",
       "Name: energy_sum, Length: 112, dtype: float64"
      ]
     },
     "execution_count": 20,
     "metadata": {},
     "output_type": "execute_result"
    }
   ],
   "source": [
    "#получим распределение максимального суточного энергопотребления по домам\n",
    "daily_data.groupby('house_id')['energy_sum'].max().sort_values()"
   ]
  },
  {
   "cell_type": "code",
   "execution_count": 21,
   "metadata": {},
   "outputs": [
    {
     "data": {
      "text/plain": [
       "<matplotlib.axes._subplots.AxesSubplot at 0x7fb1b82c2160>"
      ]
     },
     "execution_count": 21,
     "metadata": {},
     "output_type": "execute_result"
    },
    {
     "data": {
      "image/png": "[encoded data removed]",
      "text/plain": [
       "<Figure size 432x288 with 1 Axes>"
      ]
     },
     "metadata": {
      "needs_background": "light"
     },
     "output_type": "display_data"
    }
   ],
   "source": [
    "#построим график распределения максимального суточного энергопотребления домохозяств по домам\n",
    "daily_data.groupby('house_id')['energy_sum'].max().sort_values().reset_index().plot(\n",
    "    use_index=True, \n",
    "    grid = True,\n",
    "    y = 'energy_sum',\n",
    "    colormap = 'coolwarm', \n",
    "    title = 'Максимальное суточное энергопотребление по домам')"
   ]
  },
  {
   "cell_type": "markdown",
   "metadata": {},
   "source": [
    "Наблюдаем чудовищные по нашим меркам величины суточного энергопотребления, в домах 41 и 12 превышающие 300 КВт. При этом различие в максимальном суточном энергопотреблении между различными домами могут превышать 8 раз. Предположительно, это связано с разным уровнем благосостояния домохозяйств."
   ]
  },
  {
   "cell_type": "markdown",
   "metadata": {},
   "source": [
    "Выясним дополнительно, как распределено среднесуточное энергопотребление по потребителям из одного дома. Выберем дома с наибольшим (дом 0) и наименьшим (дом 109) среднесуточным энергопотреблением."
   ]
  },
  {
   "cell_type": "code",
   "execution_count": 22,
   "metadata": {},
   "outputs": [
    {
     "data": {
      "text/plain": [
       "LCLid\n",
       "MAC004387      4.301469\n",
       "MAC005492      7.513719\n",
       "MAC003239      7.592194\n",
       "MAC003281      9.401489\n",
       "MAC003557      9.985136\n",
       "MAC003718     10.025244\n",
       "MAC003737     10.106722\n",
       "MAC003740     10.331188\n",
       "MAC003826     10.621621\n",
       "MAC003646     10.672151\n",
       "MAC003579     10.987384\n",
       "MAC003874     11.137008\n",
       "MAC004034     11.255864\n",
       "MAC003348     11.780209\n",
       "MAC000002     12.096094\n",
       "MAC003400     12.211802\n",
       "MAC003805     12.764579\n",
       "MAC003252     12.885370\n",
       "MAC003482     13.165935\n",
       "MAC003851     13.468082\n",
       "MAC003719     13.682571\n",
       "MAC003863     13.961464\n",
       "MAC003844     14.636379\n",
       "MAC003463     15.514264\n",
       "MAC003305     15.768039\n",
       "MAC003686     16.290656\n",
       "MAC000246     16.834822\n",
       "MAC003680     17.024738\n",
       "MAC003553     17.297380\n",
       "MAC003656     17.772700\n",
       "MAC003423     17.953159\n",
       "MAC003422     19.043032\n",
       "MAC003223     19.207395\n",
       "MAC004431     21.530118\n",
       "MAC004247     21.769184\n",
       "MAC003817     21.964785\n",
       "MAC001074     23.277090\n",
       "MAC003428     26.244207\n",
       "MAC003394     27.510990\n",
       "MAC003597     28.805513\n",
       "MAC003388     28.941310\n",
       "MAC003566     29.192557\n",
       "MAC003775     29.778768\n",
       "MAC003613     33.132194\n",
       "MAC003856     34.393849\n",
       "MAC003668     37.001162\n",
       "MAC004319     49.005854\n",
       "MAC003449     49.083010\n",
       "MAC000450     72.850410\n",
       "MAC004179    101.358703\n",
       "Name: energy_sum, dtype: float64"
      ]
     },
     "execution_count": 22,
     "metadata": {},
     "output_type": "execute_result"
    }
   ],
   "source": [
    "#получим распределение среднего энергопотребления в доме номер 0.\n",
    "daily_data[daily_data['house_id']==0].groupby('LCLid')['energy_sum'].mean().sort_values()"
   ]
  },
  {
   "cell_type": "code",
   "execution_count": 23,
   "metadata": {},
   "outputs": [
    {
     "data": {
      "text/plain": [
       "<matplotlib.axes._subplots.AxesSubplot at 0x7fb1b83b5780>"
      ]
     },
     "execution_count": 23,
     "metadata": {},
     "output_type": "execute_result"
    },
    {
     "data": {
      "image/png": "[encoded data removed]",
      "text/plain": [
       "<Figure size 432x288 with 1 Axes>"
      ]
     },
     "metadata": {
      "needs_background": "light"
     },
     "output_type": "display_data"
    }
   ],
   "source": [
    "#построим график распределения ССЭД по домохозяйствам дома 0\n",
    "daily_data[daily_data['house_id']==0].groupby('LCLid')\\\n",
    "['energy_sum'].mean().sort_values().reset_index().plot(\n",
    "    use_index=True, \n",
    "    grid = True,\n",
    "    y = 'energy_sum',\n",
    "    colormap = 'coolwarm', \n",
    "    title = 'Среднее суточное энергопотребление домохозяйств одного дома')"
   ]
  },
  {
   "cell_type": "markdown",
   "metadata": {},
   "source": [
    "Наблюдаются очень большие (в 25 раз) различия в среднесуточном энергопотреблении домохозяйств дома номер 0."
   ]
  },
  {
   "cell_type": "code",
   "execution_count": 24,
   "metadata": {},
   "outputs": [
    {
     "data": {
      "text/plain": [
       "LCLid\n",
       "MAC002594     0.002153\n",
       "MAC000408     0.517863\n",
       "MAC002258     1.125498\n",
       "MAC002315     2.265295\n",
       "MAC002642     2.465374\n",
       "MAC000392     2.593246\n",
       "MAC002270     2.981672\n",
       "MAC002294     3.060220\n",
       "MAC002196     3.218163\n",
       "MAC002237     3.253000\n",
       "MAC002629     3.420530\n",
       "MAC000549     3.540303\n",
       "MAC003707     3.613937\n",
       "MAC002632     3.884347\n",
       "MAC000236     3.966871\n",
       "MAC000316     3.967104\n",
       "MAC002607     4.062084\n",
       "MAC002364     4.133712\n",
       "MAC002365     4.340441\n",
       "MAC002206     4.398914\n",
       "MAC002276     4.584094\n",
       "MAC002229     4.744723\n",
       "MAC005369     5.085899\n",
       "MAC000292     5.109521\n",
       "MAC000305     5.615452\n",
       "MAC002308     5.617095\n",
       "MAC002638     5.905748\n",
       "MAC002298     6.343636\n",
       "MAC005381     6.527193\n",
       "MAC000293     6.832580\n",
       "MAC000529     6.912482\n",
       "MAC002382     6.941793\n",
       "MAC000402     7.241401\n",
       "MAC002274     7.407226\n",
       "MAC002248     7.674629\n",
       "MAC002287     7.835530\n",
       "MAC005547     7.866456\n",
       "MAC002234     8.699940\n",
       "MAC002576     8.710142\n",
       "MAC000583     8.772545\n",
       "MAC002293    10.400087\n",
       "MAC002209    10.583399\n",
       "MAC002379    11.174508\n",
       "MAC002305    11.360291\n",
       "MAC005364    12.384440\n",
       "MAC002325    13.248806\n",
       "MAC002600    14.752851\n",
       "MAC005545    17.226351\n",
       "Name: energy_sum, dtype: float64"
      ]
     },
     "execution_count": 24,
     "metadata": {},
     "output_type": "execute_result"
    }
   ],
   "source": [
    "#получим распределение среднего энергопотребления в доме номер 109.\n",
    "daily_data[daily_data['house_id']==109].groupby('LCLid')['energy_sum'].mean().sort_values()"
   ]
  },
  {
   "cell_type": "markdown",
   "metadata": {},
   "source": [
    "Неожиданно в этом доме наблюдаются еще большие различия в среднесуточном энергопотреблении (более 8000 раз). Интересно узнать максимальный уровень суточного энергопотребления домохозяйства, имеющего минимальное среднесуточное энергопотребление (датчик MAC002594)."
   ]
  },
  {
   "cell_type": "code",
   "execution_count": 26,
   "metadata": {},
   "outputs": [
    {
     "data": {
      "text/plain": [
       "0.8540000000000001"
      ]
     },
     "execution_count": 26,
     "metadata": {},
     "output_type": "execute_result"
    }
   ],
   "source": [
    "#определим максимальное суточное энергопотребления в домохозяйтстве с датчиком MAC002594\n",
    "daily_data[daily_data['LCLid']=='MAC002594']['energy_sum'].max()"
   ]
  },
  {
   "cell_type": "markdown",
   "metadata": {},
   "source": [
    "Даже максимальное энергопотребление довольно низкое. По классификации ACORN это домохозяйство группы ACORN-Q с условным названием 'Difficult Circumstances' - \"Сложные обстоятельства\", что многое объясняет. В то же время, другое домохозяйство (датчик MAC005545) из этого же дома, имеющее в 8000 раз большее энергопотребление, также относится к группе ACORN-Q. Это наводит на мысль, что помимо уровня благосостояния , на энергопотребление существенно влияет образ жизни членов домохозяйств. В данном случае, возможно домохозяйство представлено одним человеком, приходящим домой только для сна."
   ]
  },
  {
   "cell_type": "markdown",
   "metadata": {},
   "source": [
    "Посмотрим, как влияет форма оплаты за электроэнергию и категория потребителей по системе ACORN на показатели энергопотребления."
   ]
  },
  {
   "cell_type": "code",
   "execution_count": 27,
   "metadata": {},
   "outputs": [
    {
     "data": {
      "text/html": [
       "<div>\n",
       "<style scoped>\n",
       "    .dataframe tbody tr th:only-of-type {\n",
       "        vertical-align: middle;\n",
       "    }\n",
       "\n",
       "    .dataframe tbody tr th {\n",
       "        vertical-align: top;\n",
       "    }\n",
       "\n",
       "    .dataframe thead th {\n",
       "        text-align: right;\n",
       "    }\n",
       "</style>\n",
       "<table border=\"1\" class=\"dataframe\">\n",
       "  <thead>\n",
       "    <tr style=\"text-align: right;\">\n",
       "      <th></th>\n",
       "      <th>LCLid</th>\n",
       "      <th>stdorToU</th>\n",
       "      <th>Acorn</th>\n",
       "      <th>Acorn_grouped</th>\n",
       "      <th>file</th>\n",
       "    </tr>\n",
       "  </thead>\n",
       "  <tbody>\n",
       "    <tr>\n",
       "      <th>0</th>\n",
       "      <td>MAC005492</td>\n",
       "      <td>ToU</td>\n",
       "      <td>ACORN-</td>\n",
       "      <td>ACORN-</td>\n",
       "      <td>block_0</td>\n",
       "    </tr>\n",
       "    <tr>\n",
       "      <th>1</th>\n",
       "      <td>MAC001074</td>\n",
       "      <td>ToU</td>\n",
       "      <td>ACORN-</td>\n",
       "      <td>ACORN-</td>\n",
       "      <td>block_0</td>\n",
       "    </tr>\n",
       "    <tr>\n",
       "      <th>2</th>\n",
       "      <td>MAC000002</td>\n",
       "      <td>Std</td>\n",
       "      <td>ACORN-A</td>\n",
       "      <td>Affluent</td>\n",
       "      <td>block_0</td>\n",
       "    </tr>\n",
       "    <tr>\n",
       "      <th>3</th>\n",
       "      <td>MAC003613</td>\n",
       "      <td>Std</td>\n",
       "      <td>ACORN-A</td>\n",
       "      <td>Affluent</td>\n",
       "      <td>block_0</td>\n",
       "    </tr>\n",
       "    <tr>\n",
       "      <th>4</th>\n",
       "      <td>MAC003597</td>\n",
       "      <td>Std</td>\n",
       "      <td>ACORN-A</td>\n",
       "      <td>Affluent</td>\n",
       "      <td>block_0</td>\n",
       "    </tr>\n",
       "  </tbody>\n",
       "</table>\n",
       "</div>"
      ],
      "text/plain": [
       "       LCLid stdorToU    Acorn Acorn_grouped     file\n",
       "0  MAC005492      ToU   ACORN-        ACORN-  block_0\n",
       "1  MAC001074      ToU   ACORN-        ACORN-  block_0\n",
       "2  MAC000002      Std  ACORN-A      Affluent  block_0\n",
       "3  MAC003613      Std  ACORN-A      Affluent  block_0\n",
       "4  MAC003597      Std  ACORN-A      Affluent  block_0"
      ]
     },
     "execution_count": 27,
     "metadata": {},
     "output_type": "execute_result"
    }
   ],
   "source": [
    "#загрузим информацию о потребителях \n",
    "households = pd.read_csv('./data/informations_households.csv')\n",
    "#проверим\n",
    "households.head()"
   ]
  },
  {
   "cell_type": "code",
   "execution_count": 28,
   "metadata": {},
   "outputs": [
    {
     "data": {
      "text/html": [
       "<div>\n",
       "<style scoped>\n",
       "    .dataframe tbody tr th:only-of-type {\n",
       "        vertical-align: middle;\n",
       "    }\n",
       "\n",
       "    .dataframe tbody tr th {\n",
       "        vertical-align: top;\n",
       "    }\n",
       "\n",
       "    .dataframe thead th {\n",
       "        text-align: right;\n",
       "    }\n",
       "</style>\n",
       "<table border=\"1\" class=\"dataframe\">\n",
       "  <thead>\n",
       "    <tr style=\"text-align: right;\">\n",
       "      <th></th>\n",
       "      <th>LCLid</th>\n",
       "      <th>house_id</th>\n",
       "      <th>day</th>\n",
       "      <th>energy_sum</th>\n",
       "      <th>year</th>\n",
       "      <th>month</th>\n",
       "      <th>isoweekday</th>\n",
       "      <th>stdorToU</th>\n",
       "      <th>Acorn</th>\n",
       "    </tr>\n",
       "  </thead>\n",
       "  <tbody>\n",
       "    <tr>\n",
       "      <th>0</th>\n",
       "      <td>MAC000041</td>\n",
       "      <td>98</td>\n",
       "      <td>2011-12-09</td>\n",
       "      <td>11.301</td>\n",
       "      <td>2011</td>\n",
       "      <td>12</td>\n",
       "      <td>5</td>\n",
       "      <td>Std</td>\n",
       "      <td>ACORN-Q</td>\n",
       "    </tr>\n",
       "    <tr>\n",
       "      <th>1</th>\n",
       "      <td>MAC000041</td>\n",
       "      <td>98</td>\n",
       "      <td>2011-12-10</td>\n",
       "      <td>9.929</td>\n",
       "      <td>2011</td>\n",
       "      <td>12</td>\n",
       "      <td>6</td>\n",
       "      <td>Std</td>\n",
       "      <td>ACORN-Q</td>\n",
       "    </tr>\n",
       "    <tr>\n",
       "      <th>2</th>\n",
       "      <td>MAC000041</td>\n",
       "      <td>98</td>\n",
       "      <td>2011-12-11</td>\n",
       "      <td>7.936</td>\n",
       "      <td>2011</td>\n",
       "      <td>12</td>\n",
       "      <td>7</td>\n",
       "      <td>Std</td>\n",
       "      <td>ACORN-Q</td>\n",
       "    </tr>\n",
       "    <tr>\n",
       "      <th>3</th>\n",
       "      <td>MAC000041</td>\n",
       "      <td>98</td>\n",
       "      <td>2011-12-12</td>\n",
       "      <td>7.500</td>\n",
       "      <td>2011</td>\n",
       "      <td>12</td>\n",
       "      <td>1</td>\n",
       "      <td>Std</td>\n",
       "      <td>ACORN-Q</td>\n",
       "    </tr>\n",
       "    <tr>\n",
       "      <th>4</th>\n",
       "      <td>MAC000041</td>\n",
       "      <td>98</td>\n",
       "      <td>2011-12-13</td>\n",
       "      <td>9.753</td>\n",
       "      <td>2011</td>\n",
       "      <td>12</td>\n",
       "      <td>2</td>\n",
       "      <td>Std</td>\n",
       "      <td>ACORN-Q</td>\n",
       "    </tr>\n",
       "  </tbody>\n",
       "</table>\n",
       "</div>"
      ],
      "text/plain": [
       "       LCLid  house_id         day  energy_sum  year month  isoweekday  \\\n",
       "0  MAC000041        98  2011-12-09      11.301  2011    12           5   \n",
       "1  MAC000041        98  2011-12-10       9.929  2011    12           6   \n",
       "2  MAC000041        98  2011-12-11       7.936  2011    12           7   \n",
       "3  MAC000041        98  2011-12-12       7.500  2011    12           1   \n",
       "4  MAC000041        98  2011-12-13       9.753  2011    12           2   \n",
       "\n",
       "  stdorToU    Acorn  \n",
       "0      Std  ACORN-Q  \n",
       "1      Std  ACORN-Q  \n",
       "2      Std  ACORN-Q  \n",
       "3      Std  ACORN-Q  \n",
       "4      Std  ACORN-Q  "
      ]
     },
     "execution_count": 28,
     "metadata": {},
     "output_type": "execute_result"
    }
   ],
   "source": [
    "#добавим в датафрейм daily_data столбцы stdorToU и Acorn из датафрейма households\n",
    "daily_data = daily_data.merge(households[['LCLid', 'stdorToU', 'Acorn']], on='LCLid', how='left')\n",
    "#посмотрим на результат\n",
    "daily_data.head()"
   ]
  },
  {
   "cell_type": "code",
   "execution_count": 29,
   "metadata": {},
   "outputs": [
    {
     "data": {
      "text/plain": [
       "stdorToU\n",
       "Std    10.323564\n",
       "ToU     9.534193\n",
       "Name: energy_sum, dtype: float64"
      ]
     },
     "execution_count": 29,
     "metadata": {},
     "output_type": "execute_result"
    }
   ],
   "source": [
    "#получим распределение ССЭД по формам оплаты за электроэнергию\n",
    "daily_data.groupby('stdorToU')['energy_sum'].mean()"
   ]
  },
  {
   "cell_type": "code",
   "execution_count": 30,
   "metadata": {},
   "outputs": [
    {
     "data": {
      "text/plain": [
       "<matplotlib.axes._subplots.AxesSubplot at 0x7fb1b8217128>"
      ]
     },
     "execution_count": 30,
     "metadata": {},
     "output_type": "execute_result"
    },
    {
     "data": {
      "image/png": "[encoded data removed]",
      "text/plain": [
       "<Figure size 432x288 with 1 Axes>"
      ]
     },
     "metadata": {
      "needs_background": "light"
     },
     "output_type": "display_data"
    }
   ],
   "source": [
    "#построим диаграмму распределения ССЭД по формам оплаты за электроэнергию\n",
    "daily_data.groupby('stdorToU')['energy_sum'].mean().plot(kind = 'bar', \n",
    "                              grid = True, \n",
    "                              colormap = 'coolwarm', \n",
    "                              title = 'Среднее суточное энергопотребление по формам оплаты')"
   ]
  },
  {
   "cell_type": "markdown",
   "metadata": {},
   "source": [
    "Наблюдаем незначительную зависимость энергопотребления от формы оплаты. Оплату, зависящую от времени суток, используют более экономные домохозяйства."
   ]
  },
  {
   "cell_type": "code",
   "execution_count": 31,
   "metadata": {},
   "outputs": [
    {
     "data": {
      "text/plain": [
       "Acorn\n",
       "ACORN-     12.052589\n",
       "ACORN-A    19.136536\n",
       "ACORN-B    11.956417\n",
       "ACORN-C    11.993320\n",
       "ACORN-D    13.627393\n",
       "ACORN-E    10.390934\n",
       "ACORN-F     9.225938\n",
       "ACORN-G    10.206903\n",
       "ACORN-H    11.045956\n",
       "ACORN-I     9.474216\n",
       "ACORN-J    11.399968\n",
       "ACORN-K    10.059012\n",
       "ACORN-L    10.066791\n",
       "ACORN-M    10.031389\n",
       "ACORN-N     9.263106\n",
       "ACORN-O     8.580450\n",
       "ACORN-P     6.644264\n",
       "ACORN-Q     7.597931\n",
       "ACORN-U    11.684697\n",
       "Name: energy_sum, dtype: float64"
      ]
     },
     "execution_count": 31,
     "metadata": {},
     "output_type": "execute_result"
    }
   ],
   "source": [
    "#получим распределение среднего суточного энергопотребления домохозяйства по группам Acorn\n",
    "daily_data.groupby('Acorn')['energy_sum'].mean()"
   ]
  },
  {
   "cell_type": "code",
   "execution_count": 32,
   "metadata": {},
   "outputs": [
    {
     "data": {
      "text/plain": [
       "<matplotlib.axes._subplots.AxesSubplot at 0x7fb1b8168630>"
      ]
     },
     "execution_count": 32,
     "metadata": {},
     "output_type": "execute_result"
    },
    {
     "data": {
      "image/png": "[encoded data removed]",
      "text/plain": [
       "<Figure size 432x288 with 1 Axes>"
      ]
     },
     "metadata": {
      "needs_background": "light"
     },
     "output_type": "display_data"
    }
   ],
   "source": [
    "#построим диаграмму распределения ССЭД по по группам Acorn\n",
    "daily_data.groupby('Acorn')['energy_sum'].mean().plot(kind = 'bar', \n",
    "                              grid = True, \n",
    "                              colormap = 'coolwarm', \n",
    "                              title = 'Среднее суточное энергопотребление по группам ACORN')"
   ]
  },
  {
   "cell_type": "markdown",
   "metadata": {},
   "source": [
    "Видим очень существенные различия в энергопотреблении различных демогеографических групп населения. Максимальное среднее суточное энергопотребление (19.14 КВт) наблюдается в группе ACORN-A ('Lavish Lifestyles' - \"Щедрый образ жизни\"). Минимальное энергопотребление (6.64 КВт) - в группе ACORN-P ('Struggling Estates' - \"Борющиеся имения\")."
   ]
  }
 ],
 "metadata": {
  "kernelspec": {
   "display_name": "Python 3",
   "language": "python",
   "name": "python3"
  },
  "language_info": {
   "codemirror_mode": {
    "name": "ipython",
    "version": 3
   },
   "file_extension": ".py",
   "mimetype": "text/x-python",
   "name": "python",
   "nbconvert_exporter": "python",
   "pygments_lexer": "ipython3",
   "version": "3.7.1"
  }
 },
 "nbformat": 4,
 "nbformat_minor": 2
}
