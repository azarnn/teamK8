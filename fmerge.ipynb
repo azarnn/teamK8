{
 "cells": [
  {
   "cell_type": "markdown",
   "metadata": {},
   "source": [
    "### Сборка файла daily_energy.csv"
   ]
  },
  {
   "cell_type": "code",
   "execution_count": 1,
   "metadata": {},
   "outputs": [],
   "source": [
    "# импортируем библиотеку os\n",
    "import os"
   ]
  },
  {
   "cell_type": "code",
   "execution_count": 5,
   "metadata": {},
   "outputs": [
    {
     "name": "stdout",
     "output_type": "stream",
     "text": [
      "16 files\n"
     ]
    },
    {
     "data": {
      "text/plain": [
       "['daily_energy.001',\n",
       " 'daily_energy.002',\n",
       " 'daily_energy.003',\n",
       " 'daily_energy.004',\n",
       " 'daily_energy.005',\n",
       " 'daily_energy.006',\n",
       " 'daily_energy.007',\n",
       " 'daily_energy.008',\n",
       " 'daily_energy.009',\n",
       " 'daily_energy.010']"
      ]
     },
     "execution_count": 5,
     "metadata": {},
     "output_type": "execute_result"
    }
   ],
   "source": [
    "#сформируем список файлов в папке data/daily_energy\n",
    "fnames = os.listdir('./data/daily_energy')\n",
    "#отсортируем наименования файлов по алфавиту\n",
    "fnames.sort()\n",
    "#проверим\n",
    "print(len(fnames), 'files')\n",
    "fnames[:10]"
   ]
  },
  {
   "cell_type": "code",
   "execution_count": 8,
   "metadata": {},
   "outputs": [
    {
     "name": "stdout",
     "output_type": "stream",
     "text": [
      "OK\n"
     ]
    }
   ],
   "source": [
    "#объединяем файлы в один\n",
    "with open('./data/daily_energy.csv', 'w') as outfile:\n",
    "    for fname in fnames:\n",
    "        with open(os.path.join('./data/daily_energy', fname), 'r') as infile:\n",
    "            outfile.write(infile.read())      \n",
    "#извещаем об успешном окончании процесса\n",
    "print('OK')"
   ]
  }
 ],
 "metadata": {
  "kernelspec": {
   "display_name": "Python 3",
   "language": "python",
   "name": "python3"
  },
  "language_info": {
   "codemirror_mode": {
    "name": "ipython",
    "version": 3
   },
   "file_extension": ".py",
   "mimetype": "text/x-python",
   "name": "python",
   "nbconvert_exporter": "python",
   "pygments_lexer": "ipython3",
   "version": "3.7.1"
  }
 },
 "nbformat": 4,
 "nbformat_minor": 2
}
